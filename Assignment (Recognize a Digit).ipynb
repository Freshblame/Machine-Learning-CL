{
 "cells": [
  {
   "cell_type": "code",
   "execution_count": null,
   "id": "b0126729",
   "metadata": {},
   "outputs": [],
   "source": [
    "#Install & Import Packages\n",
    "\n",
    "!pip install torch torchvision matplotlib --quiet\n",
    "\n",
    "import torch\n",
    "import torch.nn as nn\n",
    "import torch.optim as optim\n",
    "import torchvision\n",
    "import torchvision.transforms as transforms\n",
    "import matplotlib.pyplot as plt"
   ]
  },
  {
   "cell_type": "markdown",
   "id": "1b00d06d",
   "metadata": {},
   "source": [
    "* !pip install ...--> Installs the required Python libraries.\n",
    "\n",
    "* torch --> The main PyTorch deep learning framework.\n",
    "\n",
    "* torchvision --> Contains datasets and image processing utilities.\n",
    "\n",
    "* matplotlib --> Used for plotting and displaying images.\n",
    "\n",
    "* --quiet --> Suppresses extra installation output to keep the notebook clean.\n",
    "\n",
    "* import torch → Loads PyTorch into memory.\n",
    "\n",
    "* import torch.nn as nn → Lets us define neural network layers.\n",
    "\n",
    "* import torch.optim as optim → Gives access to optimization algorithms (like Adam, SGD).\n",
    "\n",
    "* import torchvision → Lets us access datasets (MNIST), transforms, and models.\n",
    "\n",
    "* import torchvision.transforms as transforms → Used to process/transform images before feeding them to the model.\n",
    "\n",
    "* import matplotlib.pyplot as plt → For displaying images and plots.\n",
    "\n"
   ]
  },
  {
   "cell_type": "code",
   "execution_count": 12,
   "id": "2bdcdf28",
   "metadata": {},
   "outputs": [
    {
     "data": {
      "image/png": "[encoded data removed]",
      "text/plain": [
       "<Figure size 720x144 with 5 Axes>"
      ]
     },
     "metadata": {
      "needs_background": "light"
     },
     "output_type": "display_data"
    }
   ],
   "source": [
    "# Transform: Convert to tensor and normalize\n",
    "transform = transforms.Compose([\n",
    "    transforms.ToTensor(),\n",
    "    transforms.Normalize((0.5,), (0.5,))\n",
    "])\n",
    "\n",
    "# Download MNIST dataset\n",
    "train_set = torchvision.datasets.MNIST(root='./data', train=True, download=True, transform=transform)\n",
    "train_loader = torch.utils.data.DataLoader(train_set, batch_size=32, shuffle=True)\n",
    "\n",
    "test_set = torchvision.datasets.MNIST(root='./data', train=False, download=True, transform=transform)\n",
    "test_loader = torch.utils.data.DataLoader(test_set, batch_size=32, shuffle=False)\n",
    "\n",
    "# Show 5 sample images\n",
    "images, labels = next(iter(train_loader))\n",
    "fig, axes = plt.subplots(1, 5, figsize=(10, 2))\n",
    "for i in range(5):\n",
    "    axes[i].imshow(images[i].squeeze(), cmap='gray')\n",
    "    axes[i].set_title(f\"Label: {labels[i]}\")\n",
    "    axes[i].axis('off')\n",
    "plt.show()"
   ]
  },
  {
   "cell_type": "markdown",
   "id": "712fd6aa",
   "metadata": {},
   "source": [
    "* transforms.Compose([...]) → Combines multiple image transformations.\n",
    "\n",
    "* transforms.ToTensor() → Converts a PIL image or NumPy array into a PyTorch tensor (0–1 range).\n",
    "\n",
    "* transforms.Normalize((0.5,), (0.5,)) → Normalizes pixel values to be between -1 and 1, which helps training.\n",
    "\n",
    "* Loads the training MNIST dataset.\n",
    "\n",
    "* root='./data' → Saves the dataset in the \"data\" folder.\n",
    "\n",
    "* train=True → Specifies that we want the training split.\n",
    "\n",
    "* download=True → Downloads it if it’s not already saved.\n",
    "\n",
    "* transform=transform → Applies our preprocessing (ToTensor + Normalize).\n",
    "\n",
    "* Creates a data loader to feed data in batches to the model.\n",
    "\n",
    "* batch_size=32 → 32 images per training step.\n",
    "\n",
    "* shuffle=True → Randomizes the order for better training.\n",
    "\n",
    "* Loads the test MNIST dataset (no shuffling, since testing is in fixed order).\n",
    "\n",
    "* iter(train_loader) → Creates an iterator over the training data.\n",
    "\n",
    "* next(...) → Gets the first batch (images + labels).\n",
    "\n",
    "* Creates a row of 5 plots (1, 5 means 1 row, 5 columns).\n",
    "\n",
    "* figsize=(10, 2) → Sets the size in inches.\n",
    "\n",
    "* imshow(...) → Displays the image.\n",
    "\n",
    "* .squeeze() → Removes extra dimensions (from 1×28×28 to 28×28).\n",
    "\n",
    "* cmap='gray' → Displays the image in grayscale.\n",
    "\n",
    "* set_title(...) → Shows the digit label above each image.\n",
    "\n",
    "* axis('off') → Hides the axis.\n",
    "\n",
    "* plt.show() → Displays the plot.\n"
   ]
  },
  {
   "cell_type": "code",
   "execution_count": 16,
   "id": "56401b0f",
   "metadata": {},
   "outputs": [],
   "source": [
    "# Define Model\n",
    "\n",
    "class DigitClassifier(nn.Module):\n",
    "    def __init__(self):\n",
    "        super(DigitClassifier, self).__init__()\n",
    "        self.fc1 = nn.Linear(28*28, 128)\n",
    "        self.fc2 = nn.Linear(128, 64)\n",
    "        self.fc3 = nn.Linear(64, 10)\n",
    "\n",
    "    def forward(self, x):\n",
    "        x = x.view(-1, 28*28)  # Flatten\n",
    "        x = torch.relu(self.fc1(x))\n",
    "        x = torch.relu(self.fc2(x))\n",
    "        x = self.fc3(x)\n",
    "        return x\n",
    "\n",
    "model = DigitClassifier()"
   ]
  },
  {
   "cell_type": "markdown",
   "id": "11696e82",
   "metadata": {},
   "source": [
    "* class DigitClassifier(nn.Module) → Creates a custom neural network.\n",
    "\n",
    "* super(...).__init__() → Initializes the base nn.Module class.\n",
    "\n",
    "* nn.Linear(in_features, out_features) → A fully connected layer.\n",
    "\n",
    "  28*28 → Flattened size of MNIST images.\n",
    "\n",
    "  128, 64 → Number of neurons in hidden layers.\n",
    "\n",
    "  10 → Output neurons for digits 0–9.\n",
    "    "
   ]
  },
  {
   "cell_type": "code",
   "execution_count": 17,
   "id": "57039ada",
   "metadata": {},
   "outputs": [
    {
     "name": "stdout",
     "output_type": "stream",
     "text": [
      "Epoch 1/2, Loss: 0.0374\n",
      "Epoch 2/2, Loss: 0.1733\n"
     ]
    }
   ],
   "source": [
    "# Train Model\n",
    "\n",
    "criterion = nn.CrossEntropyLoss()\n",
    "optimizer = optim.Adam(model.parameters(), lr=0.001)\n",
    "\n",
    "epochs = 2  # Short training for speed\n",
    "for epoch in range(epochs):\n",
    "    for images, labels in train_loader:\n",
    "        optimizer.zero_grad()\n",
    "        output = model(images)\n",
    "        loss = criterion(output, labels)\n",
    "        loss.backward()\n",
    "        optimizer.step()\n",
    "    print(f\"Epoch {epoch+1}/{epochs}, Loss: {loss.item():.4f}\")"
   ]
  },
  {
   "cell_type": "markdown",
   "id": "2d42e834",
   "metadata": {},
   "source": [
    "* epochs → Number of training passes over the dataset.\n",
    "\n",
    "* optimizer.zero_grad() → Clears old gradients.\n",
    "\n",
    "* model(images) → Runs images through the model.\n",
    "\n",
    "* loss = criterion(...) → Calculates the error.\n",
    "\n",
    "* loss.backward() → Computes gradients via backpropagation.\n",
    "\n",
    "* optimizer.step() → Updates model weights.\n",
    "\n",
    "* print(...) → Shows training progress.\n"
   ]
  },
  {
   "cell_type": "code",
   "execution_count": 18,
   "id": "7461b60f",
   "metadata": {},
   "outputs": [
    {
     "name": "stdout",
     "output_type": "stream",
     "text": [
      "Accuracy: 95.27%\n"
     ]
    }
   ],
   "source": [
    "# Test Model\n",
    "\n",
    "correct, total = 0, 0\n",
    "with torch.no_grad():\n",
    "    for images, labels in test_loader:\n",
    "        outputs = model(images)\n",
    "        _, predicted = torch.max(outputs, 1)\n",
    "        total += labels.size(0)\n",
    "        correct += (predicted == labels).sum().item()\n",
    "\n",
    "print(f\"Accuracy: {100 * correct / total:.2f}%\")"
   ]
  },
  {
   "cell_type": "markdown",
   "id": "908c6f34",
   "metadata": {},
   "source": [
    "* torch.no_grad() → Disables gradient calculation (faster, less memory).\n",
    "\n",
    "* torch.max(outputs, 1) → Finds predicted label with highest score.\n",
    "\n",
    "* labels.size(0) → Number of samples in batch.\n",
    "\n",
    "* (predicted == labels) → Compares predictions with actual labels.\n",
    "\n",
    "* sum().item() → Counts correct predictions.\n",
    "\n",
    "* Prints accuracy in percentage.\n"
   ]
  }
 ],
 "metadata": {
  "kernelspec": {
   "display_name": "Python 3",
   "language": "python",
   "name": "python3"
  },
  "language_info": {
   "codemirror_mode": {
    "name": "ipython",
    "version": 3
   },
   "file_extension": ".py",
   "mimetype": "text/x-python",
   "name": "python",
   "nbconvert_exporter": "python",
   "pygments_lexer": "ipython3",
   "version": "3.8.8"
  }
 },
 "nbformat": 4,
 "nbformat_minor": 5
}
